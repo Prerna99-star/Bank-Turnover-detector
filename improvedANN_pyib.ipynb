{
  "nbformat": 4,
  "nbformat_minor": 0,
  "metadata": {
    "colab": {
      "name": "improvedANN.pyib",
      "provenance": [],
      "authorship_tag": "ABX9TyNXCWhSgU1JSqjCpuv5wWvN",
      "include_colab_link": true
    },
    "kernelspec": {
      "name": "python3",
      "display_name": "Python 3"
    }
  },
  "cells": [
    {
      "cell_type": "markdown",
      "metadata": {
        "id": "view-in-github",
        "colab_type": "text"
      },
      "source": [
        "<a href=\"https://colab.research.google.com/github/Prerna99-star/Bank-Turnover-detector/blob/master/improvedANN_pyib.ipynb\" target=\"_parent\"><img src=\"https://colab.research.google.com/assets/colab-badge.svg\" alt=\"Open In Colab\"/></a>"
      ]
    },
    {
      "cell_type": "code",
      "metadata": {
        "id": "S1PVcS-7us6c",
        "colab_type": "code",
        "colab": {}
      },
      "source": [
        "import numpy as np\n",
        "import matplotlib.pyplot as plt\n",
        "import pandas as pd"
      ],
      "execution_count": 0,
      "outputs": []
    },
    {
      "cell_type": "code",
      "metadata": {
        "id": "e0nGP6f2u0Hj",
        "colab_type": "code",
        "outputId": "8afb7102-01cf-4c69-b387-45ee0bfdd111",
        "colab": {
          "base_uri": "https://localhost:8080/",
          "height": 136
        }
      },
      "source": [
        "#Importing the dataset\n",
        "dataset = pd.read_csv('Churn_Modelling.csv')\n",
        "X = dataset.iloc[:, 3:13].values\n",
        "Y = dataset.iloc[:, 13].values\n",
        "print(X)"
      ],
      "execution_count": 2,
      "outputs": [
        {
          "output_type": "stream",
          "text": [
            "[[619 'France' 'Female' ... 1 1 101348.88]\n",
            " [608 'Spain' 'Female' ... 0 1 112542.58]\n",
            " [502 'France' 'Female' ... 1 0 113931.57]\n",
            " ...\n",
            " [709 'France' 'Female' ... 0 1 42085.58]\n",
            " [772 'Germany' 'Male' ... 1 0 92888.52]\n",
            " [792 'France' 'Female' ... 1 0 38190.78]]\n"
          ],
          "name": "stdout"
        }
      ]
    },
    {
      "cell_type": "code",
      "metadata": {
        "id": "b1CtLK94u4Ll",
        "colab_type": "code",
        "outputId": "5706a921-1004-4d9e-b02a-ca61e6366d2f",
        "colab": {
          "base_uri": "https://localhost:8080/",
          "height": 136
        }
      },
      "source": [
        "from sklearn.preprocessing import LabelEncoder, OneHotEncoder\n",
        "from sklearn.compose import ColumnTransformer\n",
        "labelencoder_X_1 = LabelEncoder()\n",
        "X[:, 1] = labelencoder_X_1.fit_transform(X[:, 1])\n",
        "labelencoder_X_2 = LabelEncoder()\n",
        "X[:, 2] = labelencoder_X_1.fit_transform(X[:, 2])\n",
        "ct = ColumnTransformer([(\"Geography\", OneHotEncoder(), [1])], remainder = 'passthrough')\n",
        "X = ct.fit_transform(X)\n",
        "X = X[: , 1:]\n",
        "print(X)"
      ],
      "execution_count": 3,
      "outputs": [
        {
          "output_type": "stream",
          "text": [
            "[[0.0 0.0 619 ... 1 1 101348.88]\n",
            " [0.0 1.0 608 ... 0 1 112542.58]\n",
            " [0.0 0.0 502 ... 1 0 113931.57]\n",
            " ...\n",
            " [0.0 0.0 709 ... 0 1 42085.58]\n",
            " [1.0 0.0 772 ... 1 0 92888.52]\n",
            " [0.0 0.0 792 ... 1 0 38190.78]]\n"
          ],
          "name": "stdout"
        }
      ]
    },
    {
      "cell_type": "code",
      "metadata": {
        "id": "Ru9oMPJQu8gc",
        "colab_type": "code",
        "colab": {}
      },
      "source": [
        "from sklearn.model_selection import train_test_split\n",
        "X_train, X_test, Y_train, Y_test = train_test_split(X, Y, test_size =0.2, random_state = 0)"
      ],
      "execution_count": 0,
      "outputs": []
    },
    {
      "cell_type": "code",
      "metadata": {
        "id": "Dbs3kGOZvA3v",
        "colab_type": "code",
        "colab": {}
      },
      "source": [
        "from sklearn.preprocessing import StandardScaler\n",
        "Sc_X = StandardScaler() \n",
        "X_train = Sc_X.fit_transform(X_train)\n",
        "X_test = Sc_X.transform(X_test)\n"
      ],
      "execution_count": 0,
      "outputs": []
    },
    {
      "cell_type": "code",
      "metadata": {
        "id": "5kF64JcQvFfk",
        "colab_type": "code",
        "outputId": "634966ab-9f17-468c-e535-299982107bc5",
        "colab": {
          "base_uri": "https://localhost:8080/",
          "height": 122
        }
      },
      "source": [
        "import keras\n",
        "from keras.models import Sequential\n",
        "from keras.layers.core import Dense\n",
        "\n",
        "classifier = Sequential()\n",
        "\n",
        "classifier.add(Dense(output_dim = 6,\n",
        "                     init = 'uniform', \n",
        "                     activation = 'relu',\n",
        "                     input_dim = 11))\n",
        "\n",
        "classifier.add(Dense(output_dim = 6,\n",
        "                     init = 'uniform', \n",
        "                     activation = 'relu'))\n",
        "\n",
        "classifier.add(Dense(output_dim = 1,\n",
        "                     init = 'uniform', \n",
        "                     activation = 'sigmoid'))\n",
        "\n",
        "classifier.compile(optimizer = 'adam', loss = 'binary_crossentropy', metrics = ['accuracy'])\n"
      ],
      "execution_count": 9,
      "outputs": [
        {
          "output_type": "stream",
          "text": [
            "/usr/local/lib/python3.6/dist-packages/ipykernel_launcher.py:10: UserWarning: Update your `Dense` call to the Keras 2 API: `Dense(activation=\"relu\", input_dim=11, units=6, kernel_initializer=\"uniform\")`\n",
            "  # Remove the CWD from sys.path while we load stuff.\n",
            "/usr/local/lib/python3.6/dist-packages/ipykernel_launcher.py:14: UserWarning: Update your `Dense` call to the Keras 2 API: `Dense(activation=\"relu\", units=6, kernel_initializer=\"uniform\")`\n",
            "  \n",
            "/usr/local/lib/python3.6/dist-packages/ipykernel_launcher.py:18: UserWarning: Update your `Dense` call to the Keras 2 API: `Dense(activation=\"sigmoid\", units=1, kernel_initializer=\"uniform\")`\n"
          ],
          "name": "stderr"
        }
      ]
    },
    {
      "cell_type": "code",
      "metadata": {
        "id": "tVqtZ23EvGji",
        "colab_type": "code",
        "outputId": "c01121f5-f8fb-4202-c40f-049f74f1d2e6",
        "colab": {
          "base_uri": "https://localhost:8080/",
          "height": 1000
        }
      },
      "source": [
        "#fitting the ANN to the training set\n",
        "classifier.fit(X_train, Y_train, batch_size = 10, nb_epoch = 100)\n"
      ],
      "execution_count": 10,
      "outputs": [
        {
          "output_type": "stream",
          "text": [
            "/usr/local/lib/python3.6/dist-packages/ipykernel_launcher.py:2: UserWarning: The `nb_epoch` argument in `fit` has been renamed `epochs`.\n",
            "  \n"
          ],
          "name": "stderr"
        },
        {
          "output_type": "stream",
          "text": [
            "Epoch 1/100\n",
            "8000/8000 [==============================] - 1s 123us/step - loss: 0.4772 - accuracy: 0.7960\n",
            "Epoch 2/100\n",
            "8000/8000 [==============================] - 1s 115us/step - loss: 0.4254 - accuracy: 0.7960\n",
            "Epoch 3/100\n",
            "8000/8000 [==============================] - 1s 118us/step - loss: 0.4201 - accuracy: 0.8108\n",
            "Epoch 4/100\n",
            "8000/8000 [==============================] - 1s 116us/step - loss: 0.4172 - accuracy: 0.8269\n",
            "Epoch 5/100\n",
            "8000/8000 [==============================] - 1s 116us/step - loss: 0.4151 - accuracy: 0.8286\n",
            "Epoch 6/100\n",
            "8000/8000 [==============================] - 1s 113us/step - loss: 0.4139 - accuracy: 0.8320\n",
            "Epoch 7/100\n",
            "8000/8000 [==============================] - 1s 116us/step - loss: 0.4124 - accuracy: 0.8329\n",
            "Epoch 8/100\n",
            "8000/8000 [==============================] - 1s 115us/step - loss: 0.4110 - accuracy: 0.8335\n",
            "Epoch 9/100\n",
            "8000/8000 [==============================] - 1s 114us/step - loss: 0.4102 - accuracy: 0.8351\n",
            "Epoch 10/100\n",
            "8000/8000 [==============================] - 1s 115us/step - loss: 0.4095 - accuracy: 0.8355\n",
            "Epoch 11/100\n",
            "8000/8000 [==============================] - 1s 117us/step - loss: 0.4087 - accuracy: 0.8364\n",
            "Epoch 12/100\n",
            "8000/8000 [==============================] - 1s 117us/step - loss: 0.4084 - accuracy: 0.8338\n",
            "Epoch 13/100\n",
            "8000/8000 [==============================] - 1s 119us/step - loss: 0.4078 - accuracy: 0.8347\n",
            "Epoch 14/100\n",
            "8000/8000 [==============================] - 1s 118us/step - loss: 0.4070 - accuracy: 0.8336\n",
            "Epoch 15/100\n",
            "8000/8000 [==============================] - 1s 116us/step - loss: 0.4069 - accuracy: 0.8331\n",
            "Epoch 16/100\n",
            "8000/8000 [==============================] - 1s 117us/step - loss: 0.4057 - accuracy: 0.8355\n",
            "Epoch 17/100\n",
            "8000/8000 [==============================] - 1s 116us/step - loss: 0.4060 - accuracy: 0.8357\n",
            "Epoch 18/100\n",
            "8000/8000 [==============================] - 1s 118us/step - loss: 0.4057 - accuracy: 0.8356\n",
            "Epoch 19/100\n",
            "8000/8000 [==============================] - 1s 116us/step - loss: 0.4059 - accuracy: 0.8344\n",
            "Epoch 20/100\n",
            "8000/8000 [==============================] - 1s 117us/step - loss: 0.4048 - accuracy: 0.8359\n",
            "Epoch 21/100\n",
            "8000/8000 [==============================] - 1s 116us/step - loss: 0.4050 - accuracy: 0.8359\n",
            "Epoch 22/100\n",
            "8000/8000 [==============================] - 1s 115us/step - loss: 0.4040 - accuracy: 0.8359\n",
            "Epoch 23/100\n",
            "8000/8000 [==============================] - 1s 120us/step - loss: 0.4039 - accuracy: 0.8339\n",
            "Epoch 24/100\n",
            "8000/8000 [==============================] - 1s 119us/step - loss: 0.4043 - accuracy: 0.8344\n",
            "Epoch 25/100\n",
            "8000/8000 [==============================] - 1s 117us/step - loss: 0.4042 - accuracy: 0.8360\n",
            "Epoch 26/100\n",
            "8000/8000 [==============================] - 1s 118us/step - loss: 0.4035 - accuracy: 0.8342\n",
            "Epoch 27/100\n",
            "8000/8000 [==============================] - 1s 117us/step - loss: 0.4039 - accuracy: 0.8350\n",
            "Epoch 28/100\n",
            "8000/8000 [==============================] - 1s 117us/step - loss: 0.4033 - accuracy: 0.8341\n",
            "Epoch 29/100\n",
            "8000/8000 [==============================] - 1s 117us/step - loss: 0.4035 - accuracy: 0.8335\n",
            "Epoch 30/100\n",
            "8000/8000 [==============================] - 1s 118us/step - loss: 0.4034 - accuracy: 0.8356\n",
            "Epoch 31/100\n",
            "8000/8000 [==============================] - 1s 115us/step - loss: 0.4032 - accuracy: 0.8341\n",
            "Epoch 32/100\n",
            "8000/8000 [==============================] - 1s 116us/step - loss: 0.4033 - accuracy: 0.8355\n",
            "Epoch 33/100\n",
            "8000/8000 [==============================] - 1s 116us/step - loss: 0.4029 - accuracy: 0.8353\n",
            "Epoch 34/100\n",
            "8000/8000 [==============================] - 1s 119us/step - loss: 0.4026 - accuracy: 0.8338\n",
            "Epoch 35/100\n",
            "8000/8000 [==============================] - 1s 117us/step - loss: 0.4030 - accuracy: 0.8346\n",
            "Epoch 36/100\n",
            "8000/8000 [==============================] - 1s 116us/step - loss: 0.4022 - accuracy: 0.8325\n",
            "Epoch 37/100\n",
            "8000/8000 [==============================] - 1s 115us/step - loss: 0.4028 - accuracy: 0.8345\n",
            "Epoch 38/100\n",
            "8000/8000 [==============================] - 1s 114us/step - loss: 0.4024 - accuracy: 0.8342\n",
            "Epoch 39/100\n",
            "8000/8000 [==============================] - 1s 117us/step - loss: 0.4026 - accuracy: 0.8359\n",
            "Epoch 40/100\n",
            "8000/8000 [==============================] - 1s 116us/step - loss: 0.4022 - accuracy: 0.8355\n",
            "Epoch 41/100\n",
            "8000/8000 [==============================] - 1s 118us/step - loss: 0.4024 - accuracy: 0.8364\n",
            "Epoch 42/100\n",
            "8000/8000 [==============================] - 1s 118us/step - loss: 0.4022 - accuracy: 0.8349\n",
            "Epoch 43/100\n",
            "8000/8000 [==============================] - 1s 118us/step - loss: 0.4019 - accuracy: 0.8350\n",
            "Epoch 44/100\n",
            "8000/8000 [==============================] - 1s 116us/step - loss: 0.4021 - accuracy: 0.8342\n",
            "Epoch 45/100\n",
            "8000/8000 [==============================] - 1s 118us/step - loss: 0.4019 - accuracy: 0.8349\n",
            "Epoch 46/100\n",
            "8000/8000 [==============================] - 1s 118us/step - loss: 0.4018 - accuracy: 0.8346\n",
            "Epoch 47/100\n",
            "8000/8000 [==============================] - 1s 117us/step - loss: 0.4016 - accuracy: 0.8353\n",
            "Epoch 48/100\n",
            "8000/8000 [==============================] - 1s 117us/step - loss: 0.4011 - accuracy: 0.8342\n",
            "Epoch 49/100\n",
            "8000/8000 [==============================] - 1s 117us/step - loss: 0.4016 - accuracy: 0.8357\n",
            "Epoch 50/100\n",
            "8000/8000 [==============================] - 1s 115us/step - loss: 0.4023 - accuracy: 0.8359\n",
            "Epoch 51/100\n",
            "8000/8000 [==============================] - 1s 116us/step - loss: 0.4008 - accuracy: 0.8347\n",
            "Epoch 52/100\n",
            "8000/8000 [==============================] - 1s 119us/step - loss: 0.4016 - accuracy: 0.8355\n",
            "Epoch 53/100\n",
            "8000/8000 [==============================] - 1s 115us/step - loss: 0.4014 - accuracy: 0.8346\n",
            "Epoch 54/100\n",
            "8000/8000 [==============================] - 1s 116us/step - loss: 0.4014 - accuracy: 0.8349\n",
            "Epoch 55/100\n",
            "8000/8000 [==============================] - 1s 117us/step - loss: 0.4008 - accuracy: 0.8346\n",
            "Epoch 56/100\n",
            "8000/8000 [==============================] - 1s 116us/step - loss: 0.4011 - accuracy: 0.8330\n",
            "Epoch 57/100\n",
            "8000/8000 [==============================] - 1s 116us/step - loss: 0.4011 - accuracy: 0.8356\n",
            "Epoch 58/100\n",
            "8000/8000 [==============================] - 1s 115us/step - loss: 0.4011 - accuracy: 0.8351\n",
            "Epoch 59/100\n",
            "8000/8000 [==============================] - 1s 123us/step - loss: 0.4007 - accuracy: 0.8356\n",
            "Epoch 60/100\n",
            "8000/8000 [==============================] - 1s 114us/step - loss: 0.4006 - accuracy: 0.8367\n",
            "Epoch 61/100\n",
            "8000/8000 [==============================] - 1s 116us/step - loss: 0.4013 - accuracy: 0.8357\n",
            "Epoch 62/100\n",
            "8000/8000 [==============================] - 1s 116us/step - loss: 0.4005 - accuracy: 0.8350\n",
            "Epoch 63/100\n",
            "8000/8000 [==============================] - 1s 117us/step - loss: 0.4010 - accuracy: 0.8351\n",
            "Epoch 64/100\n",
            "8000/8000 [==============================] - 1s 116us/step - loss: 0.4010 - accuracy: 0.8357\n",
            "Epoch 65/100\n",
            "8000/8000 [==============================] - 1s 117us/step - loss: 0.4010 - accuracy: 0.8360\n",
            "Epoch 66/100\n",
            "8000/8000 [==============================] - 1s 117us/step - loss: 0.4008 - accuracy: 0.8359\n",
            "Epoch 67/100\n",
            "8000/8000 [==============================] - 1s 115us/step - loss: 0.4009 - accuracy: 0.8349\n",
            "Epoch 68/100\n",
            "8000/8000 [==============================] - 1s 116us/step - loss: 0.4004 - accuracy: 0.8346\n",
            "Epoch 69/100\n",
            "8000/8000 [==============================] - 1s 114us/step - loss: 0.4008 - accuracy: 0.8356\n",
            "Epoch 70/100\n",
            "8000/8000 [==============================] - 1s 117us/step - loss: 0.4008 - accuracy: 0.8345\n",
            "Epoch 71/100\n",
            "8000/8000 [==============================] - 1s 117us/step - loss: 0.4006 - accuracy: 0.8351\n",
            "Epoch 72/100\n",
            "8000/8000 [==============================] - 1s 114us/step - loss: 0.4003 - accuracy: 0.8359\n",
            "Epoch 73/100\n",
            "8000/8000 [==============================] - 1s 117us/step - loss: 0.4006 - accuracy: 0.8367\n",
            "Epoch 74/100\n",
            "8000/8000 [==============================] - 1s 116us/step - loss: 0.4007 - accuracy: 0.8354\n",
            "Epoch 75/100\n",
            "8000/8000 [==============================] - 1s 121us/step - loss: 0.4001 - accuracy: 0.8357\n",
            "Epoch 76/100\n",
            "8000/8000 [==============================] - 1s 119us/step - loss: 0.4005 - accuracy: 0.8342\n",
            "Epoch 77/100\n",
            "8000/8000 [==============================] - 1s 118us/step - loss: 0.4004 - accuracy: 0.8365\n",
            "Epoch 78/100\n",
            "8000/8000 [==============================] - 1s 125us/step - loss: 0.4005 - accuracy: 0.8341\n",
            "Epoch 79/100\n",
            "8000/8000 [==============================] - 1s 127us/step - loss: 0.4006 - accuracy: 0.8367\n",
            "Epoch 80/100\n",
            "8000/8000 [==============================] - 1s 128us/step - loss: 0.4001 - accuracy: 0.8347\n",
            "Epoch 81/100\n",
            "8000/8000 [==============================] - 1s 128us/step - loss: 0.4008 - accuracy: 0.8351\n",
            "Epoch 82/100\n",
            "8000/8000 [==============================] - 1s 128us/step - loss: 0.4003 - accuracy: 0.8339\n",
            "Epoch 83/100\n",
            "8000/8000 [==============================] - 1s 128us/step - loss: 0.4008 - accuracy: 0.8342\n",
            "Epoch 84/100\n",
            "8000/8000 [==============================] - 1s 129us/step - loss: 0.4006 - accuracy: 0.8364\n",
            "Epoch 85/100\n",
            "8000/8000 [==============================] - 1s 127us/step - loss: 0.4003 - accuracy: 0.8351\n",
            "Epoch 86/100\n",
            "8000/8000 [==============================] - 1s 132us/step - loss: 0.4006 - accuracy: 0.8349\n",
            "Epoch 87/100\n",
            "8000/8000 [==============================] - 1s 129us/step - loss: 0.4006 - accuracy: 0.8344\n",
            "Epoch 88/100\n",
            "8000/8000 [==============================] - 1s 118us/step - loss: 0.4000 - accuracy: 0.8355\n",
            "Epoch 89/100\n",
            "8000/8000 [==============================] - 1s 116us/step - loss: 0.4008 - accuracy: 0.8330\n",
            "Epoch 90/100\n",
            "8000/8000 [==============================] - 1s 116us/step - loss: 0.4006 - accuracy: 0.8339\n",
            "Epoch 91/100\n",
            "8000/8000 [==============================] - 1s 116us/step - loss: 0.4002 - accuracy: 0.8363\n",
            "Epoch 92/100\n",
            "8000/8000 [==============================] - 1s 115us/step - loss: 0.4010 - accuracy: 0.8347\n",
            "Epoch 93/100\n",
            "8000/8000 [==============================] - 1s 116us/step - loss: 0.4003 - accuracy: 0.8356\n",
            "Epoch 94/100\n",
            "8000/8000 [==============================] - 1s 117us/step - loss: 0.4003 - accuracy: 0.8349\n",
            "Epoch 95/100\n",
            "8000/8000 [==============================] - 1s 117us/step - loss: 0.4004 - accuracy: 0.8350\n",
            "Epoch 96/100\n",
            "8000/8000 [==============================] - 1s 117us/step - loss: 0.4008 - accuracy: 0.8353\n",
            "Epoch 97/100\n",
            "8000/8000 [==============================] - 1s 118us/step - loss: 0.4001 - accuracy: 0.8353\n",
            "Epoch 98/100\n",
            "8000/8000 [==============================] - 1s 117us/step - loss: 0.4007 - accuracy: 0.8335\n",
            "Epoch 99/100\n",
            "8000/8000 [==============================] - 1s 116us/step - loss: 0.4005 - accuracy: 0.8342\n",
            "Epoch 100/100\n",
            "8000/8000 [==============================] - 1s 117us/step - loss: 0.4002 - accuracy: 0.8345\n"
          ],
          "name": "stdout"
        },
        {
          "output_type": "execute_result",
          "data": {
            "text/plain": [
              "<keras.callbacks.callbacks.History at 0x7f3e9d7e2e80>"
            ]
          },
          "metadata": {
            "tags": []
          },
          "execution_count": 10
        }
      ]
    },
    {
      "cell_type": "code",
      "metadata": {
        "id": "ykFQdXUBvJsl",
        "colab_type": "code",
        "outputId": "982bfded-5472-4a83-e2d5-5adc19bd24d2",
        "colab": {
          "base_uri": "https://localhost:8080/",
          "height": 136
        }
      },
      "source": [
        "# Predicting the Test set results\n",
        "y_pred = classifier.predict(X_test)\n",
        "y_pred = (y_pred > 0.5)\n",
        "print(y_pred)"
      ],
      "execution_count": 11,
      "outputs": [
        {
          "output_type": "stream",
          "text": [
            "[[False]\n",
            " [False]\n",
            " [False]\n",
            " ...\n",
            " [False]\n",
            " [False]\n",
            " [False]]\n"
          ],
          "name": "stdout"
        }
      ]
    },
    {
      "cell_type": "code",
      "metadata": {
        "id": "mgm1GHNovQp9",
        "colab_type": "code",
        "outputId": "7b405806-a291-4b6f-e905-2e9f11dff076",
        "colab": {
          "base_uri": "https://localhost:8080/",
          "height": 51
        }
      },
      "source": [
        "# Making the confusion Matrix\n",
        "from sklearn.metrics import confusion_matrix\n",
        "cm = confusion_matrix(Y_test, y_pred)\n",
        "print(cm)"
      ],
      "execution_count": 12,
      "outputs": [
        {
          "output_type": "stream",
          "text": [
            "[[1529   66]\n",
            " [ 249  156]]\n"
          ],
          "name": "stdout"
        }
      ]
    },
    {
      "cell_type": "code",
      "metadata": {
        "id": "NoEGYtFIv3lP",
        "colab_type": "code",
        "outputId": "33f4fef1-4eae-486a-abdf-202458d631a9",
        "colab": {
          "base_uri": "https://localhost:8080/",
          "height": 51
        }
      },
      "source": [
        "# Evaluating ANN\n",
        "from keras.wrappers.scikit_learn import KerasClassifier\n",
        "from sklearn.model_selection import cross_val_score\n",
        "from keras.models import Sequential\n",
        "from keras.layers.core import Dense\n",
        "def build_classifier():\n",
        "  classifier = Sequential()\n",
        "\n",
        "  classifier.add(Dense(output_dim = 6,\n",
        "                     init = 'uniform', \n",
        "                     activation = 'relu',\n",
        "                     input_dim = 11))\n",
        "\n",
        "  classifier.add(Dense(output_dim = 6,\n",
        "                     init = 'uniform', \n",
        "                     activation = 'relu'))\n",
        "\n",
        "  classifier.add(Dense(output_dim = 1,\n",
        "                     init = 'uniform', \n",
        "                     activation = 'sigmoid'))\n",
        "\n",
        "  classifier.compile(optimizer = 'adam',\n",
        "                     loss = 'binary_crossentropy',\n",
        "                     metrics = ['accuracy'])\n",
        "  return classifier\n",
        "\n",
        "classifier = KerasClassifier(build_fn= build_classifier, batch_size = 10,  nb_epoch = 100 )\n",
        "accuracies = cross_val_score(estimator= classifier, X = X_train, y = Y_train, cv = 10, n_jobs= -1)\n",
        "print(accuracies)"
      ],
      "execution_count": 14,
      "outputs": [
        {
          "output_type": "stream",
          "text": [
            "[0.78625    0.79000002 0.80000001 0.78250003 0.81625003 0.81\n",
            " 0.78750002 0.79374999 0.80374998 0.79500002]\n"
          ],
          "name": "stdout"
        }
      ]
    },
    {
      "cell_type": "code",
      "metadata": {
        "id": "QkA7eZF30Obb",
        "colab_type": "code",
        "outputId": "b10de615-06e0-490e-cf0c-6301d56c40de",
        "colab": {
          "base_uri": "https://localhost:8080/",
          "height": 1000
        }
      },
      "source": [
        "\n",
        "from keras.wrappers.scikit_learn import KerasClassifier\n",
        "from sklearn.model_selection import GridSearchCV\n",
        "from keras.models import Sequential\n",
        "from keras.layers.core import Dense\n",
        "def build_classifier(optimizer):\n",
        "  classifier = Sequential()\n",
        "\n",
        "  classifier.add(Dense(output_dim = 6,\n",
        "                     init = 'uniform', \n",
        "                     activation = 'relu',\n",
        "                     input_dim = 11))\n",
        "\n",
        "  classifier.add(Dense(output_dim = 6,\n",
        "                     init = 'uniform', \n",
        "                     activation = 'relu'))\n",
        "\n",
        "  classifier.add(Dense(output_dim = 1,\n",
        "                     init = 'uniform', \n",
        "                     activation = 'sigmoid'))\n",
        "\n",
        "  classifier.compile(optimizer = optimizer,\n",
        "                     loss = 'binary_crossentropy',\n",
        "                     metrics = ['accuracy'])\n",
        "  return classifier\n",
        "\n",
        "classifier = KerasClassifier(build_fn= build_classifier)\n",
        "parameters = {'batch_size': [25, 32],\n",
        "              'nb_epoch': [100, 500],\n",
        "              'optimizer':['adam', 'rmsprop']}\n",
        "\n",
        "grid_search = GridSearchCV(estimator = classifier, \n",
        "                           param_grid = parameters,\n",
        "                           scoring = 'accuracy',\n",
        "                           cv = 10)\n",
        "grid_search = grid_search.fit(X_train, Y_train)\n",
        "best_parameters = grid_search.best_params_\n",
        "best_accuracy = grid_search.best_score_\n",
        "print(best_parameters)\n"
      ],
      "execution_count": 13,
      "outputs": [
        {
          "output_type": "stream",
          "text": [
            "/usr/local/lib/python3.6/dist-packages/ipykernel_launcher.py:12: UserWarning: Update your `Dense` call to the Keras 2 API: `Dense(activation=\"relu\", input_dim=11, units=6, kernel_initializer=\"uniform\")`\n",
            "  if sys.path[0] == '':\n",
            "/usr/local/lib/python3.6/dist-packages/ipykernel_launcher.py:16: UserWarning: Update your `Dense` call to the Keras 2 API: `Dense(activation=\"relu\", units=6, kernel_initializer=\"uniform\")`\n",
            "  app.launch_new_instance()\n",
            "/usr/local/lib/python3.6/dist-packages/ipykernel_launcher.py:20: UserWarning: Update your `Dense` call to the Keras 2 API: `Dense(activation=\"sigmoid\", units=1, kernel_initializer=\"uniform\")`\n"
          ],
          "name": "stderr"
        },
        {
          "output_type": "stream",
          "text": [
            "Epoch 1/1\n",
            "7200/7200 [==============================] - 0s 59us/step - loss: 0.6079 - accuracy: 0.7950\n",
            "Epoch 1/1\n",
            "7200/7200 [==============================] - 0s 62us/step - loss: 0.6576 - accuracy: 0.7949\n",
            "Epoch 1/1\n",
            "7200/7200 [==============================] - 0s 59us/step - loss: 0.5641 - accuracy: 0.7954\n",
            "Epoch 1/1\n",
            "7200/7200 [==============================] - 0s 58us/step - loss: 0.5387 - accuracy: 0.7975\n",
            "Epoch 1/1\n",
            "7200/7200 [==============================] - 0s 59us/step - loss: 0.5781 - accuracy: 0.7924\n",
            "Epoch 1/1\n",
            "7200/7200 [==============================] - 0s 59us/step - loss: 0.5460 - accuracy: 0.7942\n",
            "Epoch 1/1\n",
            "7200/7200 [==============================] - 0s 58us/step - loss: 0.5738 - accuracy: 0.7964\n",
            "Epoch 1/1\n",
            "7200/7200 [==============================] - 0s 58us/step - loss: 0.5417 - accuracy: 0.7962\n",
            "Epoch 1/1\n",
            "7200/7200 [==============================] - 0s 59us/step - loss: 0.5475 - accuracy: 0.7958\n",
            "Epoch 1/1\n",
            "7200/7200 [==============================] - 0s 59us/step - loss: 0.5528 - accuracy: 0.7951\n",
            "Epoch 1/1\n",
            "7200/7200 [==============================] - 0s 54us/step - loss: 0.5784 - accuracy: 0.7961\n",
            "Epoch 1/1\n",
            "7200/7200 [==============================] - 0s 53us/step - loss: 0.5826 - accuracy: 0.7960\n",
            "Epoch 1/1\n",
            "7200/7200 [==============================] - 0s 54us/step - loss: 0.5608 - accuracy: 0.7956\n",
            "Epoch 1/1\n",
            "7200/7200 [==============================] - 0s 55us/step - loss: 0.5889 - accuracy: 0.7962\n",
            "Epoch 1/1\n",
            "7200/7200 [==============================] - 0s 56us/step - loss: 0.5912 - accuracy: 0.7931\n",
            "Epoch 1/1\n",
            "7200/7200 [==============================] - 0s 55us/step - loss: 0.6536 - accuracy: 0.7935\n",
            "Epoch 1/1\n",
            "7200/7200 [==============================] - 0s 54us/step - loss: 0.5644 - accuracy: 0.7969\n",
            "Epoch 1/1\n",
            "7200/7200 [==============================] - 0s 54us/step - loss: 0.5606 - accuracy: 0.7958\n",
            "Epoch 1/1\n",
            "7200/7200 [==============================] - 0s 54us/step - loss: 0.5735 - accuracy: 0.7940\n",
            "Epoch 1/1\n",
            "7200/7200 [==============================] - 0s 56us/step - loss: 0.5639 - accuracy: 0.7954\n",
            "Epoch 1/1\n",
            "7200/7200 [==============================] - 0s 59us/step - loss: 0.5658 - accuracy: 0.7960\n",
            "Epoch 1/1\n",
            "7200/7200 [==============================] - 0s 60us/step - loss: 0.5653 - accuracy: 0.7958\n",
            "Epoch 1/1\n",
            "7200/7200 [==============================] - 0s 59us/step - loss: 0.5543 - accuracy: 0.7950\n",
            "Epoch 1/1\n",
            "7200/7200 [==============================] - 0s 58us/step - loss: 0.5634 - accuracy: 0.7968\n",
            "Epoch 1/1\n",
            "7200/7200 [==============================] - 0s 59us/step - loss: 0.5706 - accuracy: 0.7929\n",
            "Epoch 1/1\n",
            "7200/7200 [==============================] - 0s 57us/step - loss: 0.5497 - accuracy: 0.7943\n",
            "Epoch 1/1\n",
            "7200/7200 [==============================] - 0s 59us/step - loss: 0.5780 - accuracy: 0.7951\n",
            "Epoch 1/1\n",
            "7200/7200 [==============================] - 0s 59us/step - loss: 0.5611 - accuracy: 0.7957\n",
            "Epoch 1/1\n",
            "7200/7200 [==============================] - 0s 59us/step - loss: 0.5592 - accuracy: 0.7931\n",
            "Epoch 1/1\n",
            "7200/7200 [==============================] - 0s 60us/step - loss: 0.5640 - accuracy: 0.7939\n",
            "Epoch 1/1\n",
            "7200/7200 [==============================] - 0s 55us/step - loss: 0.5629 - accuracy: 0.7971\n",
            "Epoch 1/1\n",
            "7200/7200 [==============================] - 0s 55us/step - loss: 0.5957 - accuracy: 0.7949\n",
            "Epoch 1/1\n",
            "7200/7200 [==============================] - 0s 54us/step - loss: 0.5971 - accuracy: 0.7943\n",
            "Epoch 1/1\n",
            "7200/7200 [==============================] - 0s 56us/step - loss: 0.5883 - accuracy: 0.7951\n",
            "Epoch 1/1\n",
            "7200/7200 [==============================] - 0s 54us/step - loss: 0.5836 - accuracy: 0.7939\n",
            "Epoch 1/1\n",
            "7200/7200 [==============================] - 0s 54us/step - loss: 0.5884 - accuracy: 0.7939\n",
            "Epoch 1/1\n",
            "7200/7200 [==============================] - 0s 55us/step - loss: 0.5685 - accuracy: 0.7971\n",
            "Epoch 1/1\n",
            "7200/7200 [==============================] - 0s 54us/step - loss: 0.5628 - accuracy: 0.7960\n",
            "Epoch 1/1\n",
            "7200/7200 [==============================] - 0s 56us/step - loss: 0.5890 - accuracy: 0.7939\n",
            "Epoch 1/1\n",
            "7200/7200 [==============================] - 0s 57us/step - loss: 0.5997 - accuracy: 0.7961\n",
            "Epoch 1/1\n",
            "7200/7200 [==============================] - 0s 52us/step - loss: 0.5874 - accuracy: 0.7958\n",
            "Epoch 1/1\n",
            "7200/7200 [==============================] - 0s 51us/step - loss: 0.5725 - accuracy: 0.7964\n",
            "Epoch 1/1\n",
            "7200/7200 [==============================] - 0s 52us/step - loss: 0.5734 - accuracy: 0.7949\n",
            "Epoch 1/1\n",
            "7200/7200 [==============================] - 0s 51us/step - loss: 0.6002 - accuracy: 0.7951\n",
            "Epoch 1/1\n",
            "7200/7200 [==============================] - 0s 50us/step - loss: 0.5878 - accuracy: 0.7910\n",
            "Epoch 1/1\n",
            "7200/7200 [==============================] - 0s 49us/step - loss: 0.5797 - accuracy: 0.7937\n",
            "Epoch 1/1\n",
            "7200/7200 [==============================] - 0s 50us/step - loss: 0.6216 - accuracy: 0.7943\n",
            "Epoch 1/1\n",
            "7200/7200 [==============================] - 0s 50us/step - loss: 0.5785 - accuracy: 0.7962\n",
            "Epoch 1/1\n",
            "7200/7200 [==============================] - 0s 49us/step - loss: 0.5952 - accuracy: 0.7942\n",
            "Epoch 1/1\n",
            "7200/7200 [==============================] - 0s 48us/step - loss: 0.6307 - accuracy: 0.7937\n",
            "Epoch 1/1\n",
            "7200/7200 [==============================] - 0s 44us/step - loss: 0.6041 - accuracy: 0.7958\n",
            "Epoch 1/1\n",
            "7200/7200 [==============================] - 0s 49us/step - loss: 0.5834 - accuracy: 0.7962\n",
            "Epoch 1/1\n",
            "7200/7200 [==============================] - 0s 48us/step - loss: 0.6241 - accuracy: 0.7944\n",
            "Epoch 1/1\n",
            "7200/7200 [==============================] - 0s 45us/step - loss: 0.6070 - accuracy: 0.7956\n",
            "Epoch 1/1\n",
            "7200/7200 [==============================] - 0s 45us/step - loss: 0.6152 - accuracy: 0.7925\n",
            "Epoch 1/1\n",
            "7200/7200 [==============================] - 0s 47us/step - loss: 0.5937 - accuracy: 0.7939\n",
            "Epoch 1/1\n",
            "7200/7200 [==============================] - 0s 44us/step - loss: 0.5790 - accuracy: 0.7969\n",
            "Epoch 1/1\n",
            "7200/7200 [==============================] - 0s 46us/step - loss: 0.6084 - accuracy: 0.7940\n",
            "Epoch 1/1\n",
            "7200/7200 [==============================] - 0s 45us/step - loss: 0.6247 - accuracy: 0.7942\n",
            "Epoch 1/1\n",
            "7200/7200 [==============================] - 0s 46us/step - loss: 0.6251 - accuracy: 0.7949\n",
            "Epoch 1/1\n",
            "7200/7200 [==============================] - 0s 49us/step - loss: 0.5835 - accuracy: 0.7954\n",
            "Epoch 1/1\n",
            "7200/7200 [==============================] - 0s 50us/step - loss: 0.6009 - accuracy: 0.7947\n",
            "Epoch 1/1\n",
            "7200/7200 [==============================] - 0s 49us/step - loss: 0.6170 - accuracy: 0.7933\n",
            "Epoch 1/1\n",
            "7200/7200 [==============================] - 0s 48us/step - loss: 0.5683 - accuracy: 0.7974\n",
            "Epoch 1/1\n",
            "7200/7200 [==============================] - 0s 51us/step - loss: 0.5815 - accuracy: 0.7935\n",
            "Epoch 1/1\n",
            "7200/7200 [==============================] - 0s 49us/step - loss: 0.5966 - accuracy: 0.7931\n",
            "Epoch 1/1\n",
            "7200/7200 [==============================] - 0s 48us/step - loss: 0.5921 - accuracy: 0.7956\n",
            "Epoch 1/1\n",
            "7200/7200 [==============================] - 0s 49us/step - loss: 0.5994 - accuracy: 0.7944\n",
            "Epoch 1/1\n",
            "7200/7200 [==============================] - 0s 52us/step - loss: 0.5802 - accuracy: 0.7932\n",
            "Epoch 1/1\n",
            "7200/7200 [==============================] - 0s 50us/step - loss: 0.5702 - accuracy: 0.7960\n",
            "Epoch 1/1\n",
            "7200/7200 [==============================] - 0s 45us/step - loss: 0.6223 - accuracy: 0.7956\n",
            "Epoch 1/1\n",
            "7200/7200 [==============================] - 0s 46us/step - loss: 0.5869 - accuracy: 0.7967\n",
            "Epoch 1/1\n",
            "7200/7200 [==============================] - 0s 46us/step - loss: 0.5975 - accuracy: 0.7956\n",
            "Epoch 1/1\n",
            "7200/7200 [==============================] - 0s 45us/step - loss: 0.6103 - accuracy: 0.7951\n",
            "Epoch 1/1\n",
            "7200/7200 [==============================] - 0s 46us/step - loss: 0.5904 - accuracy: 0.7931\n",
            "Epoch 1/1\n",
            "7200/7200 [==============================] - 0s 47us/step - loss: 0.5966 - accuracy: 0.7943\n",
            "Epoch 1/1\n",
            "7200/7200 [==============================] - 0s 44us/step - loss: 0.6251 - accuracy: 0.7946\n",
            "Epoch 1/1\n",
            "7200/7200 [==============================] - 0s 45us/step - loss: 0.6066 - accuracy: 0.7960\n",
            "Epoch 1/1\n",
            "7200/7200 [==============================] - 0s 48us/step - loss: 0.6123 - accuracy: 0.7928\n",
            "Epoch 1/1\n",
            "7200/7200 [==============================] - 0s 47us/step - loss: 0.6106 - accuracy: 0.7949\n",
            "Epoch 1/1\n",
            "8000/8000 [==============================] - 0s 58us/step - loss: 0.5526 - accuracy: 0.7950\n",
            "{'batch_size': 25, 'nb_epoch': 100, 'optimizer': 'adam'}\n"
          ],
          "name": "stdout"
        }
      ]
    }
  ]
}