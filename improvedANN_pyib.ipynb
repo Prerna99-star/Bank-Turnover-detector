{
  "nbformat": 4,
  "nbformat_minor": 0,
  "metadata": {
    "colab": {
      "name": "improvedANN.pyib",
      "provenance": [],
      "authorship_tag": "ABX9TyM0IKg8BYAJ/w6DlfqSJw0S",
      "include_colab_link": true
    },
    "kernelspec": {
      "name": "python3",
      "display_name": "Python 3"
    }
  },
  "cells": [
    {
      "cell_type": "markdown",
      "metadata": {
        "id": "view-in-github",
        "colab_type": "text"
      },
      "source": [
        "<a href=\"https://colab.research.google.com/github/Prerna99-star/Bank-Turnover-detector/blob/master/improvedANN_pyib.ipynb\" target=\"_parent\"><img src=\"https://colab.research.google.com/assets/colab-badge.svg\" alt=\"Open In Colab\"/></a>"
      ]
    },
    {
      "cell_type": "code",
      "metadata": {
        "id": "S1PVcS-7us6c",
        "colab_type": "code",
        "colab": {}
      },
      "source": [
        "import numpy as np\n",
        "import matplotlib.pyplot as plt\n",
        "import pandas as pd"
      ],
      "execution_count": 0,
      "outputs": []
    },
    {
      "cell_type": "code",
      "metadata": {
        "id": "e0nGP6f2u0Hj",
        "colab_type": "code",
        "outputId": "fe2c628a-8088-47a4-a3bb-bd354a79c14d",
        "colab": {
          "base_uri": "https://localhost:8080/",
          "height": 136
        }
      },
      "source": [
        "#Importing the dataset\n",
        "dataset = pd.read_csv('Churn_Modelling.csv')\n",
        "X = dataset.iloc[:, 3:13].values\n",
        "Y = dataset.iloc[:, 13].values\n",
        "print(X)"
      ],
      "execution_count": 0,
      "outputs": [
        {
          "output_type": "stream",
          "text": [
            "[[619 'France' 'Female' ... 1 1 101348.88]\n",
            " [608 'Spain' 'Female' ... 0 1 112542.58]\n",
            " [502 'France' 'Female' ... 1 0 113931.57]\n",
            " ...\n",
            " [709 'France' 'Female' ... 0 1 42085.58]\n",
            " [772 'Germany' 'Male' ... 1 0 92888.52]\n",
            " [792 'France' 'Female' ... 1 0 38190.78]]\n"
          ],
          "name": "stdout"
        }
      ]
    },
    {
      "cell_type": "code",
      "metadata": {
        "id": "b1CtLK94u4Ll",
        "colab_type": "code",
        "outputId": "e1e3fda3-68d6-4653-f2eb-34df78ec4514",
        "colab": {
          "base_uri": "https://localhost:8080/",
          "height": 136
        }
      },
      "source": [
        "from sklearn.preprocessing import LabelEncoder, OneHotEncoder\n",
        "from sklearn.compose import ColumnTransformer\n",
        "labelencoder_X_1 = LabelEncoder()\n",
        "X[:, 1] = labelencoder_X_1.fit_transform(X[:, 1])\n",
        "labelencoder_X_2 = LabelEncoder()\n",
        "X[:, 2] = labelencoder_X_1.fit_transform(X[:, 2])\n",
        "ct = ColumnTransformer([(\"Geography\", OneHotEncoder(), [1])], remainder = 'passthrough')\n",
        "X = ct.fit_transform(X)\n",
        "X = X[: , 1:]\n",
        "print(X)"
      ],
      "execution_count": 0,
      "outputs": [
        {
          "output_type": "stream",
          "text": [
            "[[0.0 0.0 619 ... 1 1 101348.88]\n",
            " [0.0 1.0 608 ... 0 1 112542.58]\n",
            " [0.0 0.0 502 ... 1 0 113931.57]\n",
            " ...\n",
            " [0.0 0.0 709 ... 0 1 42085.58]\n",
            " [1.0 0.0 772 ... 1 0 92888.52]\n",
            " [0.0 0.0 792 ... 1 0 38190.78]]\n"
          ],
          "name": "stdout"
        }
      ]
    },
    {
      "cell_type": "code",
      "metadata": {
        "id": "Ru9oMPJQu8gc",
        "colab_type": "code",
        "colab": {}
      },
      "source": [
        "from sklearn.model_selection import train_test_split\n",
        "X_train, X_test, Y_train, Y_test = train_test_split(X, Y, test_size =0.2, random_state = 0)"
      ],
      "execution_count": 0,
      "outputs": []
    },
    {
      "cell_type": "code",
      "metadata": {
        "id": "Dbs3kGOZvA3v",
        "colab_type": "code",
        "colab": {}
      },
      "source": [
        "from sklearn.preprocessing import StandardScaler\n",
        "Sc_X = StandardScaler() \n",
        "X_train = Sc_X.fit_transform(X_train)\n",
        "X_test = Sc_X.transform(X_test)\n"
      ],
      "execution_count": 0,
      "outputs": []
    },
    {
      "cell_type": "code",
      "metadata": {
        "id": "5kF64JcQvFfk",
        "colab_type": "code",
        "outputId": "5991e182-2bb9-4c31-9ec1-b9a81522c096",
        "colab": {
          "base_uri": "https://localhost:8080/",
          "height": 173
        }
      },
      "source": [
        "import keras\n",
        "from keras.models import Sequential\n",
        "from keras.layers.core import Dense\n",
        "from keras.layers import Dropout\n",
        "\n",
        "classifier = Sequential()\n",
        "\n",
        "classifier.add(Dense(output_dim = 6,\n",
        "                     init = 'uniform', \n",
        "                     activation = 'relu',\n",
        "                     input_dim = 11))\n",
        "classifier.add(Dropout(p = 0.1 ))\n",
        "\n",
        "classifier.add(Dense(output_dim = 6,\n",
        "                     init = 'uniform', \n",
        "                     activation = 'relu'))\n",
        "classifier.add(Dropout(p = 0.1 ))\n",
        "\n",
        "classifier.add(Dense(output_dim = 1,\n",
        "                     init = 'uniform', \n",
        "                     activation = 'sigmoid'))\n",
        "\n",
        "classifier.compile(optimizer = 'adam', loss = 'binary_crossentropy', metrics = ['accuracy'])\n"
      ],
      "execution_count": 0,
      "outputs": [
        {
          "output_type": "stream",
          "text": [
            "/usr/local/lib/python3.6/dist-packages/ipykernel_launcher.py:11: UserWarning: Update your `Dense` call to the Keras 2 API: `Dense(activation=\"relu\", input_dim=11, units=6, kernel_initializer=\"uniform\")`\n",
            "  # This is added back by InteractiveShellApp.init_path()\n",
            "/usr/local/lib/python3.6/dist-packages/ipykernel_launcher.py:12: UserWarning: Update your `Dropout` call to the Keras 2 API: `Dropout(rate=0.1)`\n",
            "  if sys.path[0] == '':\n",
            "/usr/local/lib/python3.6/dist-packages/ipykernel_launcher.py:16: UserWarning: Update your `Dense` call to the Keras 2 API: `Dense(activation=\"relu\", units=6, kernel_initializer=\"uniform\")`\n",
            "  app.launch_new_instance()\n",
            "/usr/local/lib/python3.6/dist-packages/ipykernel_launcher.py:17: UserWarning: Update your `Dropout` call to the Keras 2 API: `Dropout(rate=0.1)`\n",
            "/usr/local/lib/python3.6/dist-packages/ipykernel_launcher.py:21: UserWarning: Update your `Dense` call to the Keras 2 API: `Dense(activation=\"sigmoid\", units=1, kernel_initializer=\"uniform\")`\n"
          ],
          "name": "stderr"
        }
      ]
    },
    {
      "cell_type": "code",
      "metadata": {
        "id": "tVqtZ23EvGji",
        "colab_type": "code",
        "outputId": "db755a20-5f2b-4942-c21b-533ff64003ee",
        "colab": {
          "base_uri": "https://localhost:8080/",
          "height": 1000
        }
      },
      "source": [
        "#fitting the ANN to the training set\n",
        "classifier.fit(X_train, Y_train, batch_size = 10, nb_epoch = 100)\n"
      ],
      "execution_count": 0,
      "outputs": [
        {
          "output_type": "stream",
          "text": [
            "/usr/local/lib/python3.6/dist-packages/ipykernel_launcher.py:2: UserWarning: The `nb_epoch` argument in `fit` has been renamed `epochs`.\n",
            "  \n"
          ],
          "name": "stderr"
        },
        {
          "output_type": "stream",
          "text": [
            "Epoch 1/100\n",
            "8000/8000 [==============================] - 1s 133us/step - loss: 0.4869 - accuracy: 0.7960\n",
            "Epoch 2/100\n",
            "8000/8000 [==============================] - 1s 109us/step - loss: 0.4360 - accuracy: 0.7960\n",
            "Epoch 3/100\n",
            "8000/8000 [==============================] - 1s 109us/step - loss: 0.4337 - accuracy: 0.7960\n",
            "Epoch 4/100\n",
            "8000/8000 [==============================] - 1s 107us/step - loss: 0.4295 - accuracy: 0.7960\n",
            "Epoch 5/100\n",
            "8000/8000 [==============================] - 1s 112us/step - loss: 0.4303 - accuracy: 0.7960\n",
            "Epoch 6/100\n",
            "8000/8000 [==============================] - 1s 109us/step - loss: 0.4260 - accuracy: 0.8159\n",
            "Epoch 7/100\n",
            "8000/8000 [==============================] - 1s 106us/step - loss: 0.4253 - accuracy: 0.8225\n",
            "Epoch 8/100\n",
            "8000/8000 [==============================] - 1s 110us/step - loss: 0.4243 - accuracy: 0.8261\n",
            "Epoch 9/100\n",
            "8000/8000 [==============================] - 1s 107us/step - loss: 0.4288 - accuracy: 0.8267\n",
            "Epoch 10/100\n",
            "8000/8000 [==============================] - 1s 109us/step - loss: 0.4244 - accuracy: 0.8281\n",
            "Epoch 11/100\n",
            "8000/8000 [==============================] - 1s 108us/step - loss: 0.4241 - accuracy: 0.8294\n",
            "Epoch 12/100\n",
            "8000/8000 [==============================] - 1s 130us/step - loss: 0.4261 - accuracy: 0.8306\n",
            "Epoch 13/100\n",
            "8000/8000 [==============================] - 1s 109us/step - loss: 0.4249 - accuracy: 0.8279\n",
            "Epoch 14/100\n",
            "8000/8000 [==============================] - 1s 114us/step - loss: 0.4259 - accuracy: 0.8300\n",
            "Epoch 15/100\n",
            "8000/8000 [==============================] - 1s 110us/step - loss: 0.4237 - accuracy: 0.8313\n",
            "Epoch 16/100\n",
            "8000/8000 [==============================] - 1s 110us/step - loss: 0.4222 - accuracy: 0.8316\n",
            "Epoch 17/100\n",
            "8000/8000 [==============================] - 1s 113us/step - loss: 0.4248 - accuracy: 0.8313\n",
            "Epoch 18/100\n",
            "8000/8000 [==============================] - 1s 109us/step - loss: 0.4242 - accuracy: 0.8310\n",
            "Epoch 19/100\n",
            "8000/8000 [==============================] - 1s 108us/step - loss: 0.4261 - accuracy: 0.8300\n",
            "Epoch 20/100\n",
            "8000/8000 [==============================] - 1s 111us/step - loss: 0.4211 - accuracy: 0.8305\n",
            "Epoch 21/100\n",
            "8000/8000 [==============================] - 1s 107us/step - loss: 0.4203 - accuracy: 0.8342\n",
            "Epoch 22/100\n",
            "8000/8000 [==============================] - 1s 109us/step - loss: 0.4268 - accuracy: 0.8296\n",
            "Epoch 23/100\n",
            "8000/8000 [==============================] - 1s 109us/step - loss: 0.4212 - accuracy: 0.8304\n",
            "Epoch 24/100\n",
            "8000/8000 [==============================] - 1s 109us/step - loss: 0.4265 - accuracy: 0.8311\n",
            "Epoch 25/100\n",
            "8000/8000 [==============================] - 1s 109us/step - loss: 0.4221 - accuracy: 0.8317\n",
            "Epoch 26/100\n",
            "8000/8000 [==============================] - 1s 110us/step - loss: 0.4205 - accuracy: 0.8328\n",
            "Epoch 27/100\n",
            "8000/8000 [==============================] - 1s 110us/step - loss: 0.4201 - accuracy: 0.8285\n",
            "Epoch 28/100\n",
            "8000/8000 [==============================] - 1s 107us/step - loss: 0.4205 - accuracy: 0.8314\n",
            "Epoch 29/100\n",
            "8000/8000 [==============================] - 1s 110us/step - loss: 0.4197 - accuracy: 0.8330\n",
            "Epoch 30/100\n",
            "8000/8000 [==============================] - 1s 113us/step - loss: 0.4247 - accuracy: 0.8316\n",
            "Epoch 31/100\n",
            "8000/8000 [==============================] - 1s 109us/step - loss: 0.4213 - accuracy: 0.8301\n",
            "Epoch 32/100\n",
            "8000/8000 [==============================] - 1s 121us/step - loss: 0.4219 - accuracy: 0.8305\n",
            "Epoch 33/100\n",
            "8000/8000 [==============================] - 1s 111us/step - loss: 0.4217 - accuracy: 0.8335\n",
            "Epoch 34/100\n",
            "8000/8000 [==============================] - 1s 109us/step - loss: 0.4216 - accuracy: 0.8303\n",
            "Epoch 35/100\n",
            "8000/8000 [==============================] - 1s 111us/step - loss: 0.4229 - accuracy: 0.8314\n",
            "Epoch 36/100\n",
            "8000/8000 [==============================] - 1s 110us/step - loss: 0.4184 - accuracy: 0.8322\n",
            "Epoch 37/100\n",
            "8000/8000 [==============================] - 1s 110us/step - loss: 0.4234 - accuracy: 0.8304\n",
            "Epoch 38/100\n",
            "8000/8000 [==============================] - 1s 111us/step - loss: 0.4203 - accuracy: 0.8315\n",
            "Epoch 39/100\n",
            "8000/8000 [==============================] - 1s 110us/step - loss: 0.4235 - accuracy: 0.8330\n",
            "Epoch 40/100\n",
            "8000/8000 [==============================] - 1s 111us/step - loss: 0.4200 - accuracy: 0.8329\n",
            "Epoch 41/100\n",
            "8000/8000 [==============================] - 1s 110us/step - loss: 0.4191 - accuracy: 0.8311\n",
            "Epoch 42/100\n",
            "8000/8000 [==============================] - 1s 115us/step - loss: 0.4169 - accuracy: 0.8326\n",
            "Epoch 43/100\n",
            "8000/8000 [==============================] - 1s 112us/step - loss: 0.4193 - accuracy: 0.8324\n",
            "Epoch 44/100\n",
            "8000/8000 [==============================] - 1s 112us/step - loss: 0.4209 - accuracy: 0.8292\n",
            "Epoch 45/100\n",
            "8000/8000 [==============================] - 1s 112us/step - loss: 0.4221 - accuracy: 0.8305\n",
            "Epoch 46/100\n",
            "8000/8000 [==============================] - 1s 110us/step - loss: 0.4214 - accuracy: 0.8315\n",
            "Epoch 47/100\n",
            "8000/8000 [==============================] - 1s 110us/step - loss: 0.4209 - accuracy: 0.8300\n",
            "Epoch 48/100\n",
            "8000/8000 [==============================] - 1s 111us/step - loss: 0.4229 - accuracy: 0.8329\n",
            "Epoch 49/100\n",
            "8000/8000 [==============================] - 1s 112us/step - loss: 0.4237 - accuracy: 0.8295\n",
            "Epoch 50/100\n",
            "8000/8000 [==============================] - 1s 110us/step - loss: 0.4220 - accuracy: 0.8320\n",
            "Epoch 51/100\n",
            "8000/8000 [==============================] - 1s 111us/step - loss: 0.4178 - accuracy: 0.8319\n",
            "Epoch 52/100\n",
            "8000/8000 [==============================] - 1s 120us/step - loss: 0.4190 - accuracy: 0.8342\n",
            "Epoch 53/100\n",
            "8000/8000 [==============================] - 1s 112us/step - loss: 0.4209 - accuracy: 0.8300\n",
            "Epoch 54/100\n",
            "8000/8000 [==============================] - 1s 113us/step - loss: 0.4237 - accuracy: 0.8304\n",
            "Epoch 55/100\n",
            "8000/8000 [==============================] - 1s 110us/step - loss: 0.4214 - accuracy: 0.8296\n",
            "Epoch 56/100\n",
            "8000/8000 [==============================] - 1s 112us/step - loss: 0.4199 - accuracy: 0.8321\n",
            "Epoch 57/100\n",
            "8000/8000 [==============================] - 1s 112us/step - loss: 0.4248 - accuracy: 0.8319\n",
            "Epoch 58/100\n",
            "8000/8000 [==============================] - 1s 110us/step - loss: 0.4213 - accuracy: 0.8324\n",
            "Epoch 59/100\n",
            "8000/8000 [==============================] - 1s 133us/step - loss: 0.4220 - accuracy: 0.8326\n",
            "Epoch 60/100\n",
            "8000/8000 [==============================] - 1s 113us/step - loss: 0.4236 - accuracy: 0.8300\n",
            "Epoch 61/100\n",
            "8000/8000 [==============================] - 1s 112us/step - loss: 0.4224 - accuracy: 0.8301\n",
            "Epoch 62/100\n",
            "8000/8000 [==============================] - 1s 113us/step - loss: 0.4199 - accuracy: 0.8326\n",
            "Epoch 63/100\n",
            "8000/8000 [==============================] - 1s 112us/step - loss: 0.4241 - accuracy: 0.8329\n",
            "Epoch 64/100\n",
            "8000/8000 [==============================] - 1s 111us/step - loss: 0.4219 - accuracy: 0.8314\n",
            "Epoch 65/100\n",
            "8000/8000 [==============================] - 1s 122us/step - loss: 0.4219 - accuracy: 0.8303\n",
            "Epoch 66/100\n",
            "8000/8000 [==============================] - 1s 119us/step - loss: 0.4213 - accuracy: 0.8315\n",
            "Epoch 67/100\n",
            "8000/8000 [==============================] - 1s 114us/step - loss: 0.4193 - accuracy: 0.8306\n",
            "Epoch 68/100\n",
            "8000/8000 [==============================] - 1s 112us/step - loss: 0.4211 - accuracy: 0.8319\n",
            "Epoch 69/100\n",
            "8000/8000 [==============================] - 1s 111us/step - loss: 0.4209 - accuracy: 0.8344\n",
            "Epoch 70/100\n",
            "8000/8000 [==============================] - 1s 109us/step - loss: 0.4209 - accuracy: 0.8325\n",
            "Epoch 71/100\n",
            "8000/8000 [==============================] - 1s 109us/step - loss: 0.4195 - accuracy: 0.8310\n",
            "Epoch 72/100\n",
            "8000/8000 [==============================] - 1s 119us/step - loss: 0.4174 - accuracy: 0.8345\n",
            "Epoch 73/100\n",
            "8000/8000 [==============================] - 1s 113us/step - loss: 0.4212 - accuracy: 0.8309\n",
            "Epoch 74/100\n",
            "8000/8000 [==============================] - 1s 110us/step - loss: 0.4181 - accuracy: 0.8321\n",
            "Epoch 75/100\n",
            "8000/8000 [==============================] - 1s 113us/step - loss: 0.4197 - accuracy: 0.8284\n",
            "Epoch 76/100\n",
            "8000/8000 [==============================] - 1s 116us/step - loss: 0.4221 - accuracy: 0.8315\n",
            "Epoch 77/100\n",
            "8000/8000 [==============================] - 1s 112us/step - loss: 0.4165 - accuracy: 0.8307\n",
            "Epoch 78/100\n",
            "8000/8000 [==============================] - 1s 120us/step - loss: 0.4218 - accuracy: 0.8310\n",
            "Epoch 79/100\n",
            "8000/8000 [==============================] - 1s 114us/step - loss: 0.4208 - accuracy: 0.8331\n",
            "Epoch 80/100\n",
            "8000/8000 [==============================] - 1s 112us/step - loss: 0.4231 - accuracy: 0.8320\n",
            "Epoch 81/100\n",
            "8000/8000 [==============================] - 1s 113us/step - loss: 0.4233 - accuracy: 0.8326\n",
            "Epoch 82/100\n",
            "8000/8000 [==============================] - 1s 119us/step - loss: 0.4221 - accuracy: 0.8320\n",
            "Epoch 83/100\n",
            "8000/8000 [==============================] - 1s 122us/step - loss: 0.4209 - accuracy: 0.8340\n",
            "Epoch 84/100\n",
            "8000/8000 [==============================] - 1s 125us/step - loss: 0.4179 - accuracy: 0.8306\n",
            "Epoch 85/100\n",
            "8000/8000 [==============================] - 1s 112us/step - loss: 0.4208 - accuracy: 0.8326\n",
            "Epoch 86/100\n",
            "8000/8000 [==============================] - 1s 112us/step - loss: 0.4193 - accuracy: 0.8315\n",
            "Epoch 87/100\n",
            "8000/8000 [==============================] - 1s 120us/step - loss: 0.4204 - accuracy: 0.8331\n",
            "Epoch 88/100\n",
            "8000/8000 [==============================] - 1s 114us/step - loss: 0.4191 - accuracy: 0.8301\n",
            "Epoch 89/100\n",
            "8000/8000 [==============================] - 1s 124us/step - loss: 0.4212 - accuracy: 0.8303\n",
            "Epoch 90/100\n",
            "8000/8000 [==============================] - 1s 118us/step - loss: 0.4200 - accuracy: 0.8359\n",
            "Epoch 91/100\n",
            "8000/8000 [==============================] - 1s 117us/step - loss: 0.4161 - accuracy: 0.8338\n",
            "Epoch 92/100\n",
            "8000/8000 [==============================] - 1s 115us/step - loss: 0.4216 - accuracy: 0.8356\n",
            "Epoch 93/100\n",
            "8000/8000 [==============================] - 1s 115us/step - loss: 0.4207 - accuracy: 0.8332\n",
            "Epoch 94/100\n",
            "8000/8000 [==============================] - 1s 113us/step - loss: 0.4202 - accuracy: 0.8342\n",
            "Epoch 95/100\n",
            "8000/8000 [==============================] - 1s 117us/step - loss: 0.4223 - accuracy: 0.8314\n",
            "Epoch 96/100\n",
            "8000/8000 [==============================] - 1s 124us/step - loss: 0.4199 - accuracy: 0.8351\n",
            "Epoch 97/100\n",
            "8000/8000 [==============================] - 1s 133us/step - loss: 0.4198 - accuracy: 0.8328\n",
            "Epoch 98/100\n",
            "8000/8000 [==============================] - 1s 118us/step - loss: 0.4190 - accuracy: 0.8325\n",
            "Epoch 99/100\n",
            "8000/8000 [==============================] - 1s 124us/step - loss: 0.4176 - accuracy: 0.8338\n",
            "Epoch 100/100\n",
            "8000/8000 [==============================] - 1s 118us/step - loss: 0.4202 - accuracy: 0.8313\n"
          ],
          "name": "stdout"
        },
        {
          "output_type": "execute_result",
          "data": {
            "text/plain": [
              "<keras.callbacks.callbacks.History at 0x7fcb41410cc0>"
            ]
          },
          "metadata": {
            "tags": []
          },
          "execution_count": 23
        }
      ]
    },
    {
      "cell_type": "code",
      "metadata": {
        "id": "ykFQdXUBvJsl",
        "colab_type": "code",
        "outputId": "e2f9c957-e080-48e3-8521-c2162f12b799",
        "colab": {
          "base_uri": "https://localhost:8080/",
          "height": 136
        }
      },
      "source": [
        "# Predicting the Test set results\n",
        "y_pred = classifier.predict(X_test)\n",
        "y_pred = (y_pred > 0.5)\n",
        "print(y_pred)"
      ],
      "execution_count": 0,
      "outputs": [
        {
          "output_type": "stream",
          "text": [
            "[[False]\n",
            " [False]\n",
            " [False]\n",
            " ...\n",
            " [False]\n",
            " [False]\n",
            " [False]]\n"
          ],
          "name": "stdout"
        }
      ]
    },
    {
      "cell_type": "code",
      "metadata": {
        "id": "mgm1GHNovQp9",
        "colab_type": "code",
        "outputId": "2813ae1b-6bfd-488a-eed8-29fba039a6d8",
        "colab": {
          "base_uri": "https://localhost:8080/",
          "height": 51
        }
      },
      "source": [
        "# Making the confusion Matrix\n",
        "from sklearn.metrics import confusion_matrix\n",
        "cm = confusion_matrix(Y_test, y_pred)\n",
        "print(cm)"
      ],
      "execution_count": 0,
      "outputs": [
        {
          "output_type": "stream",
          "text": [
            "[[1527   68]\n",
            " [ 241  164]]\n"
          ],
          "name": "stdout"
        }
      ]
    },
    {
      "cell_type": "code",
      "metadata": {
        "id": "NoEGYtFIv3lP",
        "colab_type": "code",
        "outputId": "7aac07ae-ae8b-4314-a4ef-d78799d5a453",
        "colab": {
          "base_uri": "https://localhost:8080/",
          "height": 51
        }
      },
      "source": [
        "# Evaluating ANN\n",
        "from keras.wrappers.scikit_learn import KerasClassifier\n",
        "from sklearn.model_selection import cross_val_score\n",
        "from keras.models import Sequential\n",
        "from keras.layers.core import Dense\n",
        "def build_classifier():\n",
        "  classifier = Sequential()\n",
        "\n",
        "  classifier.add(Dense(output_dim = 6,\n",
        "                     init = 'uniform', \n",
        "                     activation = 'relu',\n",
        "                     input_dim = 11))\n",
        "\n",
        "  classifier.add(Dense(output_dim = 6,\n",
        "                     init = 'uniform', \n",
        "                     activation = 'relu'))\n",
        "\n",
        "  classifier.add(Dense(output_dim = 1,\n",
        "                     init = 'uniform', \n",
        "                     activation = 'sigmoid'))\n",
        "\n",
        "  classifier.compile(optimizer = 'adam',\n",
        "                     loss = 'binary_crossentropy',\n",
        "                     metrics = ['accuracy'])\n",
        "  return classifier\n",
        "\n",
        "classifier = KerasClassifier(build_fn= build_classifier, batch_size = 10,  nb_epoch = 100 )\n",
        "accuracies = cross_val_score(estimator= classifier, X = X_train, y = Y_train, cv = 10, n_jobs= -1)\n",
        "print(accuracies)"
      ],
      "execution_count": 0,
      "outputs": [
        {
          "output_type": "stream",
          "text": [
            "[0.78625    0.79000002 0.80000001 0.78250003 0.81625003 0.81\n",
            " 0.82125002 0.79374999 0.79874998 0.79500002]\n"
          ],
          "name": "stdout"
        }
      ]
    },
    {
      "cell_type": "code",
      "metadata": {
        "id": "QkA7eZF30Obb",
        "colab_type": "code",
        "outputId": "23ac7ff5-5256-4d34-e351-723e6454514c",
        "colab": {
          "base_uri": "https://localhost:8080/",
          "height": 1000
        }
      },
      "source": [
        "\n",
        "from keras.wrappers.scikit_learn import KerasClassifier\n",
        "from sklearn.model_selection import GridSearchCV\n",
        "from keras.models import Sequential\n",
        "from keras.layers.core import Dense\n",
        "def build_classifier(optimizer):\n",
        "  classifier = Sequential()\n",
        "\n",
        "  classifier.add(Dense(output_dim = 6,\n",
        "                     init = 'uniform', \n",
        "                     activation = 'relu',\n",
        "                     input_dim = 11))\n",
        "\n",
        "  classifier.add(Dense(output_dim = 6,\n",
        "                     init = 'uniform', \n",
        "                     activation = 'relu'))\n",
        "\n",
        "  classifier.add(Dense(output_dim = 1,\n",
        "                     init = 'uniform', \n",
        "                     activation = 'sigmoid'))\n",
        "\n",
        "  classifier.compile(optimizer = optimizer,\n",
        "                     loss = 'binary_crossentropy',\n",
        "                     metrics = ['accuracy'])\n",
        "  return classifier\n",
        "\n",
        "classifier = KerasClassifier(build_fn= build_classifier)\n",
        "parameters = {'batch_size': [25, 32],\n",
        "              'nb_epoch': [100, 500],\n",
        "              'optimizer':['adam', 'rmsprop']}\n",
        "\n",
        "grid_search = GridSearchCV(estimator = classifier, \n",
        "                           param_grid = parameters,\n",
        "                           scoring = 'accuracy',\n",
        "                           cv = 10)\n",
        "grid_search = grid_search.fit(X_train, Y_train)\n",
        "best_parameters = grid_search.best_params_\n",
        "best_accuracy = grid_search.best_score_\n",
        "print(best_accuracy)\n"
      ],
      "execution_count": 26,
      "outputs": [
        {
          "output_type": "stream",
          "text": [
            "/usr/local/lib/python3.6/dist-packages/ipykernel_launcher.py:12: UserWarning: Update your `Dense` call to the Keras 2 API: `Dense(activation=\"relu\", input_dim=11, units=6, kernel_initializer=\"uniform\")`\n",
            "  if sys.path[0] == '':\n",
            "/usr/local/lib/python3.6/dist-packages/ipykernel_launcher.py:16: UserWarning: Update your `Dense` call to the Keras 2 API: `Dense(activation=\"relu\", units=6, kernel_initializer=\"uniform\")`\n",
            "  app.launch_new_instance()\n",
            "/usr/local/lib/python3.6/dist-packages/ipykernel_launcher.py:20: UserWarning: Update your `Dense` call to the Keras 2 API: `Dense(activation=\"sigmoid\", units=1, kernel_initializer=\"uniform\")`\n"
          ],
          "name": "stderr"
        },
        {
          "output_type": "stream",
          "text": [
            "Epoch 1/1\n",
            "7200/7200 [==============================] - 0s 56us/step - loss: 0.5507 - accuracy: 0.7971\n",
            "Epoch 1/1\n",
            "7200/7200 [==============================] - 0s 56us/step - loss: 0.5679 - accuracy: 0.7962\n",
            "Epoch 1/1\n",
            "7200/7200 [==============================] - 0s 55us/step - loss: 0.5666 - accuracy: 0.7953\n",
            "Epoch 1/1\n",
            "7200/7200 [==============================] - 0s 56us/step - loss: 0.5505 - accuracy: 0.7961\n",
            "Epoch 1/1\n",
            "7200/7200 [==============================] - 0s 58us/step - loss: 0.5791 - accuracy: 0.7911\n",
            "Epoch 1/1\n",
            "7200/7200 [==============================] - 0s 56us/step - loss: 0.5787 - accuracy: 0.7926\n",
            "Epoch 1/1\n",
            "7200/7200 [==============================] - 0s 56us/step - loss: 0.5520 - accuracy: 0.7950\n",
            "Epoch 1/1\n",
            "7200/7200 [==============================] - 0s 56us/step - loss: 0.5498 - accuracy: 0.7962\n",
            "Epoch 1/1\n",
            "7200/7200 [==============================] - 0s 56us/step - loss: 0.5628 - accuracy: 0.7949\n",
            "Epoch 1/1\n",
            "7200/7200 [==============================] - 0s 54us/step - loss: 0.5708 - accuracy: 0.7949\n",
            "Epoch 1/1\n",
            "7200/7200 [==============================] - 0s 49us/step - loss: 0.6052 - accuracy: 0.7962\n",
            "Epoch 1/1\n",
            "7200/7200 [==============================] - 0s 49us/step - loss: 0.5705 - accuracy: 0.7967\n",
            "Epoch 1/1\n",
            "7200/7200 [==============================] - 0s 49us/step - loss: 0.5804 - accuracy: 0.7943\n",
            "Epoch 1/1\n",
            "7200/7200 [==============================] - 0s 54us/step - loss: 0.6036 - accuracy: 0.7951\n",
            "Epoch 1/1\n",
            "7200/7200 [==============================] - 0s 51us/step - loss: 0.5865 - accuracy: 0.7933\n",
            "Epoch 1/1\n",
            "7200/7200 [==============================] - 0s 55us/step - loss: 0.5727 - accuracy: 0.7926\n",
            "Epoch 1/1\n",
            "7200/7200 [==============================] - 0s 55us/step - loss: 0.5848 - accuracy: 0.7958\n",
            "Epoch 1/1\n",
            "7200/7200 [==============================] - 0s 52us/step - loss: 0.5706 - accuracy: 0.7964\n",
            "Epoch 1/1\n",
            "7200/7200 [==============================] - 0s 51us/step - loss: 0.5750 - accuracy: 0.7954\n",
            "Epoch 1/1\n",
            "7200/7200 [==============================] - 0s 53us/step - loss: 0.5812 - accuracy: 0.7954\n",
            "Epoch 1/1\n",
            "7200/7200 [==============================] - 0s 56us/step - loss: 0.5567 - accuracy: 0.7946\n",
            "Epoch 1/1\n",
            "7200/7200 [==============================] - 0s 61us/step - loss: 0.5662 - accuracy: 0.7946\n",
            "Epoch 1/1\n",
            "7200/7200 [==============================] - 0s 60us/step - loss: 0.5983 - accuracy: 0.7929\n",
            "Epoch 1/1\n",
            "7200/7200 [==============================] - 0s 58us/step - loss: 0.5506 - accuracy: 0.7958\n",
            "Epoch 1/1\n",
            "7200/7200 [==============================] - 0s 57us/step - loss: 0.5565 - accuracy: 0.7935\n",
            "Epoch 1/1\n",
            "7200/7200 [==============================] - 0s 57us/step - loss: 0.5701 - accuracy: 0.7931\n",
            "Epoch 1/1\n",
            "7200/7200 [==============================] - 0s 61us/step - loss: 0.5543 - accuracy: 0.7962\n",
            "Epoch 1/1\n",
            "7200/7200 [==============================] - 0s 55us/step - loss: 0.5651 - accuracy: 0.7950\n",
            "Epoch 1/1\n",
            "7200/7200 [==============================] - 0s 54us/step - loss: 0.5519 - accuracy: 0.7957\n",
            "Epoch 1/1\n",
            "7200/7200 [==============================] - 0s 54us/step - loss: 0.5694 - accuracy: 0.7950\n",
            "Epoch 1/1\n",
            "7200/7200 [==============================] - 0s 50us/step - loss: 0.6032 - accuracy: 0.7951\n",
            "Epoch 1/1\n",
            "7200/7200 [==============================] - 0s 54us/step - loss: 0.5890 - accuracy: 0.7961\n",
            "Epoch 1/1\n",
            "7200/7200 [==============================] - 0s 52us/step - loss: 0.5994 - accuracy: 0.7951\n",
            "Epoch 1/1\n",
            "7200/7200 [==============================] - 0s 51us/step - loss: 0.5799 - accuracy: 0.7957\n",
            "Epoch 1/1\n",
            "7200/7200 [==============================] - 0s 51us/step - loss: 0.5739 - accuracy: 0.7937\n",
            "Epoch 1/1\n",
            "7200/7200 [==============================] - 0s 56us/step - loss: 0.5885 - accuracy: 0.7919\n",
            "Epoch 1/1\n",
            "7200/7200 [==============================] - 0s 52us/step - loss: 0.5856 - accuracy: 0.7960\n",
            "Epoch 1/1\n",
            "7200/7200 [==============================] - 0s 51us/step - loss: 0.5821 - accuracy: 0.7962\n",
            "Epoch 1/1\n",
            "7200/7200 [==============================] - 0s 61us/step - loss: 0.5631 - accuracy: 0.7957\n",
            "Epoch 1/1\n",
            "7200/7200 [==============================] - 0s 51us/step - loss: 0.5657 - accuracy: 0.7961\n",
            "Epoch 1/1\n",
            "7200/7200 [==============================] - 0s 52us/step - loss: 0.6274 - accuracy: 0.7954\n",
            "Epoch 1/1\n",
            "7200/7200 [==============================] - 0s 48us/step - loss: 0.5780 - accuracy: 0.7956\n",
            "Epoch 1/1\n",
            "7200/7200 [==============================] - 0s 47us/step - loss: 0.5831 - accuracy: 0.7946\n",
            "Epoch 1/1\n",
            "7200/7200 [==============================] - 0s 47us/step - loss: 0.5684 - accuracy: 0.7965\n",
            "Epoch 1/1\n",
            "7200/7200 [==============================] - 0s 48us/step - loss: 0.5818 - accuracy: 0.7931\n",
            "Epoch 1/1\n",
            "7200/7200 [==============================] - 0s 47us/step - loss: 0.5950 - accuracy: 0.7924\n",
            "Epoch 1/1\n",
            "7200/7200 [==============================] - 0s 46us/step - loss: 0.5873 - accuracy: 0.7944\n",
            "Epoch 1/1\n",
            "7200/7200 [==============================] - 0s 53us/step - loss: 0.5816 - accuracy: 0.7954\n",
            "Epoch 1/1\n",
            "7200/7200 [==============================] - 0s 46us/step - loss: 0.5782 - accuracy: 0.7946\n",
            "Epoch 1/1\n",
            "7200/7200 [==============================] - 0s 46us/step - loss: 0.6017 - accuracy: 0.7931\n",
            "Epoch 1/1\n",
            "7200/7200 [==============================] - 0s 43us/step - loss: 0.6218 - accuracy: 0.7950\n",
            "Epoch 1/1\n",
            "7200/7200 [==============================] - 0s 42us/step - loss: 0.5977 - accuracy: 0.7953\n",
            "Epoch 1/1\n",
            "7200/7200 [==============================] - 0s 41us/step - loss: 0.6257 - accuracy: 0.7946\n",
            "Epoch 1/1\n",
            "7200/7200 [==============================] - 0s 42us/step - loss: 0.6321 - accuracy: 0.7968\n",
            "Epoch 1/1\n",
            "7200/7200 [==============================] - 0s 42us/step - loss: 0.5777 - accuracy: 0.7937\n",
            "Epoch 1/1\n",
            "7200/7200 [==============================] - 0s 45us/step - loss: 0.6264 - accuracy: 0.7926\n",
            "Epoch 1/1\n",
            "7200/7200 [==============================] - 0s 43us/step - loss: 0.6198 - accuracy: 0.7960\n",
            "Epoch 1/1\n",
            "7200/7200 [==============================] - 0s 48us/step - loss: 0.6236 - accuracy: 0.7942\n",
            "Epoch 1/1\n",
            "7200/7200 [==============================] - 0s 45us/step - loss: 0.6247 - accuracy: 0.7929\n",
            "Epoch 1/1\n",
            "7200/7200 [==============================] - 0s 46us/step - loss: 0.6103 - accuracy: 0.7957\n",
            "Epoch 1/1\n",
            "7200/7200 [==============================] - 0s 46us/step - loss: 0.5801 - accuracy: 0.7971\n",
            "Epoch 1/1\n",
            "7200/7200 [==============================] - 0s 47us/step - loss: 0.6035 - accuracy: 0.7953\n",
            "Epoch 1/1\n",
            "7200/7200 [==============================] - 0s 48us/step - loss: 0.5976 - accuracy: 0.7949\n",
            "Epoch 1/1\n",
            "7200/7200 [==============================] - 0s 48us/step - loss: 0.6118 - accuracy: 0.7947\n",
            "Epoch 1/1\n",
            "7200/7200 [==============================] - 0s 48us/step - loss: 0.5972 - accuracy: 0.7935\n",
            "Epoch 1/1\n",
            "7200/7200 [==============================] - 0s 52us/step - loss: 0.6064 - accuracy: 0.7921\n",
            "Epoch 1/1\n",
            "7200/7200 [==============================] - 0s 47us/step - loss: 0.5810 - accuracy: 0.7968\n",
            "Epoch 1/1\n",
            "7200/7200 [==============================] - 0s 47us/step - loss: 0.5805 - accuracy: 0.7949\n",
            "Epoch 1/1\n",
            "7200/7200 [==============================] - 0s 50us/step - loss: 0.6043 - accuracy: 0.7956\n",
            "Epoch 1/1\n",
            "7200/7200 [==============================] - 0s 47us/step - loss: 0.5904 - accuracy: 0.7943\n",
            "Epoch 1/1\n",
            "7200/7200 [==============================] - 0s 42us/step - loss: 0.6252 - accuracy: 0.7947\n",
            "Epoch 1/1\n",
            "7200/7200 [==============================] - 0s 43us/step - loss: 0.6077 - accuracy: 0.7960\n",
            "Epoch 1/1\n",
            "7200/7200 [==============================] - 0s 41us/step - loss: 0.5870 - accuracy: 0.7949\n",
            "Epoch 1/1\n",
            "7200/7200 [==============================] - 0s 46us/step - loss: 0.6111 - accuracy: 0.7962\n",
            "Epoch 1/1\n",
            "7200/7200 [==============================] - 0s 44us/step - loss: 0.6080 - accuracy: 0.7925\n",
            "Epoch 1/1\n",
            "7200/7200 [==============================] - 0s 43us/step - loss: 0.6114 - accuracy: 0.7933\n",
            "Epoch 1/1\n",
            "7200/7200 [==============================] - 0s 44us/step - loss: 0.6454 - accuracy: 0.7939\n",
            "Epoch 1/1\n",
            "7200/7200 [==============================] - 0s 43us/step - loss: 0.6262 - accuracy: 0.7956\n",
            "Epoch 1/1\n",
            "7200/7200 [==============================] - 0s 43us/step - loss: 0.6265 - accuracy: 0.7953\n",
            "Epoch 1/1\n",
            "7200/7200 [==============================] - 0s 42us/step - loss: 0.6026 - accuracy: 0.7956\n",
            "Epoch 1/1\n",
            "8000/8000 [==============================] - 0s 55us/step - loss: 0.5636 - accuracy: 0.7946\n",
            "0.796\n"
          ],
          "name": "stdout"
        }
      ]
    }
  ]
}